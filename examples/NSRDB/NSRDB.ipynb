{
 "metadata": {
  "language_info": {
   "codemirror_mode": {
    "name": "ipython",
    "version": 3
   },
   "file_extension": ".py",
   "mimetype": "text/x-python",
   "name": "python",
   "nbconvert_exporter": "python",
   "pygments_lexer": "ipython3",
   "version": "3.7.10"
  },
  "orig_nbformat": 4,
  "kernelspec": {
   "name": "python3",
   "display_name": "Python 3.7.10 64-bit ('base': conda)"
  },
  "interpreter": {
   "hash": "061af7d531878ddeb4696a1637b324abf07dec75946e612f93016d0c8495988a"
  }
 },
 "nbformat": 4,
 "nbformat_minor": 2,
 "cells": [
  {
   "source": [
    "# National Solar Radiation Database (NSRDB)\n",
    "\n",
    "The National Solar Radiation Database (NSRDB) is a serially complete\n",
    "collection of meteorological and solar irradiance data sets for the\n",
    "United States and a growing list of international locations for 1998-2017. The\n",
    "NSRDB provides foundational information to support U.S. Department of Energy\n",
    "programs, research, and the general public.\n",
    "\n",
    "The NSRDB provides time-series data at 30 minute resolution of resource\n",
    "averaged over surface cells of 0.038 degrees in both latitude and longitude,\n",
    "or nominally 4 km in size. The solar radiation values represent the resource\n",
    "available to solar energy systems. The data was created using cloud properties\n",
    "which are generated using the AVHRR Pathfinder Atmospheres-Extended (PATMOS-x)\n",
    "algorithms developed by the University of Wisconsin. Fast all-sky radiation\n",
    "model for solar applications (FARMS) in conjunction with the cloud properties,\n",
    "and aerosol optical depth (AOD) and precipitable water vapor (PWV) from\n",
    "ancillary source are used to estimate solar irradiance (GHI, DNI, and DHI).\n",
    "The Global Horizontal Irradiance (GHI) is computed for clear skies using the\n",
    "REST2 model. For cloud scenes identified by the cloud mask, FARMS is used to\n",
    "compute GHI. The Direct Normal Irradiance (DNI) for cloud scenes is then\n",
    "computed using the DISC model. The PATMOS-X model uses half-hourly radiance\n",
    "images in visible and infrared channels from the GOES series of geostationary\n",
    "weather satellites.  Ancillary variables needed to run REST2 and FARMS (e.g.,\n",
    "aerosol optical depth, precipitable water vapor, and albedo) are derived from\n",
    "the the Modern Era-Retrospective Analysis (MERRA-2) dataset. Temperature and\n",
    "wind speed data are also derived from MERRA-2 and provided for use in SAM to\n",
    "compute PV generation.\n",
    "\n",
    "The following variables are provided by the NSRDB:\n",
    "\n",
    "- Irradiance:\n",
    "\n",
    "    - Global Horizontal (ghi)\n",
    "    - Direct Normal (dni)\n",
    "    - Diffuse (dhi)\n",
    "\n",
    "- Clear-sky Irradiance\n",
    "- Cloud Type\n",
    "- Dew Point\n",
    "- Temperature\n",
    "- Surface Albedo\n",
    "- Pressure\n",
    "- Relative Humidity\n",
    "- Solar Zenith Angle\n",
    "- Precipitable Water\n",
    "- Wind Direction\n",
    "- Wind Speed\n",
    "- Fill Flag\n",
    "- Angstrom wavelength exponent (alpha)\n",
    "- Aerosol optical depth (aod)\n",
    "- Aerosol asymmetry parameter (asymmetry)\n",
    "- Cloud optical depth (cld_opd_dcomp)\n",
    "- Cloud effective radius (cld_ref_dcomp)\n",
    "- cloud_press_acha\n",
    "- Reduced ozone vertical pathlength (ozone)\n",
    "- Aerosol single-scatter albedo (ssa)"
   ],
   "cell_type": "markdown",
   "metadata": {}
  },
  {
   "source": [
    "## Data Format\n",
    "\n",
    "The data is provided in high density data file (.h5) separated by year. The\n",
    "variables mentioned above are provided in 2 dimensional time-series arrays\n",
    "with dimensions (time x location). The temporal axis is defined by the\n",
    "``time_index`` dataset, while the positional axis is defined by the ``meta``\n",
    "dataset. For storage efficiency each variable has been scaled and stored as an\n",
    "integer. The scale-factor is provided in the ``psm_scale-factor`` attribute.\n",
    "The units for the variable data is also provided as an attribute\n",
    "(``psm_units``)."
   ],
   "cell_type": "markdown",
   "metadata": {}
  },
  {
   "source": [
    "## Data Access Examples\n",
    "\n",
    "Example scripts to extract wave resource data using the command line or python\n",
    "are provided below:\n",
    "\n",
    "The easiest way to access and extract data is by using the Resource eXtraction\n",
    "tool `rex <https://nrel.github.io/rex/>`_.\n",
    "\n",
    "To use `rex` with `HSDS <https://github.com/NREL/hsds-examples>`_ you will need\n",
    "to install `h5pyd`:\n",
    "\n",
    "```bash\n",
    "pip install h5pyd\n",
    "```\n",
    "\n",
    "Next you'll need to configure HSDS:\n",
    "\n",
    "```bash\n",
    "  hsconfigure\n",
    "```\n",
    "\n",
    "and enter at the prompt:\n",
    "\n",
    "```bash\n",
    "  hs_endpoint = https://developer.nrel.gov/api/hsds\n",
    "  hs_username =\n",
    "  hs_password =\n",
    "  hs_api_key = 3K3JQbjZmWctY0xmIfSYvYgtIcM3CN0cb1Y2w9bf\n",
    "```\n",
    "\n",
    "**The example API key here is for demonstation and is rate-limited per IP. To\n",
    "get your own API key, visit https://developer.nrel.gov/signup/**\n",
    "\n",
    "**Please note that our HSDS service is for demonstration purposes only, if you\n",
    "would like to use HSDS for production runs of reV please setup your own\n",
    "service: https://github.com/HDFGroup/hsds and point it to our public HSDS\n",
    "bucket: s3://nrel-pds-hsds**\n",
    "\n",
    "You can also add the above contents to a configuration file at `~/.hscfg`\n",
    "\n",
    "NOTE: When using the `rex` resource handlers with HSDS you need to set `hsds=True`"
   ],
   "cell_type": "markdown",
   "metadata": {}
  },
  {
   "source": [
    "### NSRDB Resource Handler\n",
    "\n",
    "The [NSRDB](https://nrel.github.io/rex/rex/rex.renewable_resource.html#nsrdb) Resource handler provides a simple wrapper on `h5py` and `h5pyd` to simplify access to NSRDB data"
   ],
   "cell_type": "markdown",
   "metadata": {}
  },
  {
   "cell_type": "code",
   "execution_count": null,
   "metadata": {},
   "outputs": [],
   "source": [
    "from rex import NSRDB\n",
    "\n",
    "nsrdb_file = '/nrel/nsrdb/v3/nsrdb_2018.h5'\n",
    "with NSRDB(nsrdb_file, hsds=True) as f:\n",
    "    meta = f.meta\n",
    "    time_index = f.time_index\n",
    "    dni = f['dni', :, ::1000]\n",
    "\n",
    "display(meta.head())\n",
    "display(time_index)\n",
    "display(dni)"
   ]
  },
  {
   "source": [
    "`NSRDBX` also allows easy extraction of the nearest site to a desired (lat, lon) location:"
   ],
   "cell_type": "markdown",
   "metadata": {}
  },
  {
   "cell_type": "code",
   "execution_count": null,
   "metadata": {},
   "outputs": [],
   "source": []
  }
 ]
}
